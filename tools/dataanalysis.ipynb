{
 "cells": [
  {
   "cell_type": "code",
   "execution_count": null,
   "id": "1bf4ec72",
   "metadata": {},
   "outputs": [],
   "source": [
    "import csv\n",
    "import matplotlib.pyplot as plt\n",
    "import numpy as np\n",
    "import os"
   ]
  },
  {
   "cell_type": "code",
   "execution_count": null,
   "id": "8760c0a1",
   "metadata": {},
   "outputs": [],
   "source": [
    "# Parameters\n",
    "path = 'logs'\n",
    "csv_files = [os.path.join(path, f) for f in os.listdir(path) if os.path.isfile(os.path.join(path, f)) and f.endswith('.csv')]\n",
    "csv_file = csv_files[-1]\n",
    "cpsPerUSvH = 68.4 / 60"
   ]
  },
  {
   "cell_type": "code",
   "execution_count": null,
   "id": "a22078d5",
   "metadata": {},
   "outputs": [],
   "source": [
    "# Load data\n",
    "\n",
    "x = []\n",
    "first_row = False\n",
    "with open(csv_file) as csvfile:\n",
    "    dataset = csv.reader(csvfile)\n",
    "    for row in dataset:\n",
    "        if not first_row:\n",
    "            first_row = True\n",
    "        else:\n",
    "            value = int(row[1])\n",
    "            if value < 0:\n",
    "                print(row)\n",
    "            else:\n",
    "                x.append(value)\n",
    "\n",
    "# Filter\n",
    "N = 1000\n",
    "\n",
    "y = np.convolve(x, np.ones(N) / N, mode='valid') / cpsPerUSvH"
   ]
  },
  {
   "cell_type": "code",
   "execution_count": null,
   "id": "9b724508",
   "metadata": {},
   "outputs": [],
   "source": [
    "plt.plot(y)\n",
    "plt.title(csv_file)\n",
    "plt.ylim(0, 1)\n",
    "plt.show()"
   ]
  },
  {
   "cell_type": "code",
   "execution_count": null,
   "id": "3acac70c",
   "metadata": {},
   "outputs": [],
   "source": []
  }
 ],
 "metadata": {
  "kernelspec": {
   "display_name": "Python 3 (ipykernel)",
   "language": "python",
   "name": "python3"
  },
  "language_info": {
   "codemirror_mode": {
    "name": "ipython",
    "version": 3
   },
   "file_extension": ".py",
   "mimetype": "text/x-python",
   "name": "python",
   "nbconvert_exporter": "python",
   "pygments_lexer": "ipython3",
   "version": "3.11.3"
  }
 },
 "nbformat": 4,
 "nbformat_minor": 5
}
